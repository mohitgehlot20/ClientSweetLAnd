{
 "cells": [
  {
   "cell_type": "code",
   "execution_count": 3,
   "id": "cb9c5c8c",
   "metadata": {},
   "outputs": [
    {
     "ename": "ModuleNotFoundError",
     "evalue": "No module named 'wolframalpha'",
     "output_type": "error",
     "traceback": [
      "\u001b[1;31m---------------------------------------------------------------------------\u001b[0m",
      "\u001b[1;31mModuleNotFoundError\u001b[0m                       Traceback (most recent call last)",
      "Input \u001b[1;32mIn [3]\u001b[0m, in \u001b[0;36m<cell line: 5>\u001b[1;34m()\u001b[0m\n\u001b[0;32m      3\u001b[0m \u001b[38;5;28;01mimport\u001b[39;00m \u001b[38;5;21;01msubprocess\u001b[39;00m\n\u001b[0;32m      4\u001b[0m \u001b[38;5;28;01mimport\u001b[39;00m \u001b[38;5;21;01mjson\u001b[39;00m\n\u001b[1;32m----> 5\u001b[0m \u001b[38;5;28;01mimport\u001b[39;00m \u001b[38;5;21;01mwolframalpha\u001b[39;00m\n\u001b[0;32m      6\u001b[0m \u001b[38;5;28;01mimport\u001b[39;00m \u001b[38;5;21;01mrequests\u001b[39;00m\n\u001b[0;32m      7\u001b[0m \u001b[38;5;28;01mimport\u001b[39;00m \u001b[38;5;21;01mwebbrowser\u001b[39;00m\n",
      "\u001b[1;31mModuleNotFoundError\u001b[0m: No module named 'wolframalpha'"
     ]
    }
   ],
   "source": [
    "import os\n",
    "import time\n",
    "import subprocess\n",
    "import json\n",
    "import wolframalpha\n",
    "import requests\n",
    "import webbrowser\n",
    "import wikipedia\n",
    "import datetime\n",
    "import speech_recognition as sr\n",
    "import pyttsx3"
   ]
  },
  {
   "cell_type": "code",
   "execution_count": 4,
   "id": "f782df43",
   "metadata": {},
   "outputs": [
    {
     "name": "stdout",
     "output_type": "stream",
     "text": [
      "LOADING YOUR PERSONAL ASSISTANT JARVIS \n"
     ]
    }
   ],
   "source": [
    "print(\"LOADING YOUR PERSONAL ASSISTANT JARVIS \")"
   ]
  },
  {
   "cell_type": "code",
   "execution_count": 5,
   "id": "863f2e8f",
   "metadata": {},
   "outputs": [
    {
     "ename": "NameError",
     "evalue": "name 'pyttsx3' is not defined",
     "output_type": "error",
     "traceback": [
      "\u001b[1;31m---------------------------------------------------------------------------\u001b[0m",
      "\u001b[1;31mNameError\u001b[0m                                 Traceback (most recent call last)",
      "Input \u001b[1;32mIn [5]\u001b[0m, in \u001b[0;36m<cell line: 1>\u001b[1;34m()\u001b[0m\n\u001b[1;32m----> 1\u001b[0m engine \u001b[38;5;241m=\u001b[39m \u001b[43mpyttsx3\u001b[49m\u001b[38;5;241m.\u001b[39minit(\u001b[38;5;124m'\u001b[39m\u001b[38;5;124msapi5\u001b[39m\u001b[38;5;124m'\u001b[39m)\n\u001b[0;32m      2\u001b[0m voices \u001b[38;5;241m=\u001b[39m engine\u001b[38;5;241m.\u001b[39mgetProperty(\u001b[38;5;124m'\u001b[39m\u001b[38;5;124mvoices\u001b[39m\u001b[38;5;124m'\u001b[39m)\n\u001b[0;32m      3\u001b[0m engine\u001b[38;5;241m.\u001b[39msetProperty(\u001b[38;5;124m'\u001b[39m\u001b[38;5;124mvoice\u001b[39m\u001b[38;5;124m'\u001b[39m,\u001b[38;5;124m'\u001b[39m\u001b[38;5;124mvoices[0]\u001b[39m\u001b[38;5;124m'\u001b[39m)\n",
      "\u001b[1;31mNameError\u001b[0m: name 'pyttsx3' is not defined"
     ]
    }
   ],
   "source": [
    "engine = pyttsx3.init('sapi5')\n",
    "voices = engine.getProperty('voices')\n",
    "engine.setProperty('voice','voices[0]')"
   ]
  },
  {
   "cell_type": "code",
   "execution_count": null,
   "id": "79c4e095",
   "metadata": {},
   "outputs": [],
   "source": [
    "def speak(text):\n",
    "    engine.say(text)\n",
    "    engine.runAndWait()"
   ]
  },
  {
   "cell_type": "code",
   "execution_count": null,
   "id": "9f2f8c2b",
   "metadata": {},
   "outputs": [],
   "source": [
    "def wishMe():\n",
    "    hour=datetime.datetime.now().hour\n",
    "    if hour>=0 and hour < 12:\n",
    "        speak(\"Hello,Good Morning Mr.Mohit\")\n",
    "        print(\"Hello,Good Morning Mr.Mohit\")\n",
    "    elif hour>=12 and hour <=17:\n",
    "        speak(\"Hello,Good afternoon Mr.Mohit\")\n",
    "        print(\"Hello,Good afternoon Mr.Mohit\")\n",
    "    else:\n",
    "        speak(\"Hello,Good Evening Mr.Mohit\")\n",
    "        print(\"Hello,Good Evening Mr.Mohit\")"
   ]
  },
  {
   "cell_type": "code",
   "execution_count": 6,
   "id": "4919a08d",
   "metadata": {},
   "outputs": [],
   "source": [
    "def takeCommand():\n",
    "    r=sr.Recognizer()\n",
    "    with sr.Microphone() as source:\n",
    "        print(\"I am Listening....\")\n",
    "        audio=r.listen(source)\n",
    "        \n",
    "        try:\n",
    "            statement=r.recognize_google(audio,language='en-in')\n",
    "            print(f\"user said:{statement}\\n\")           \n",
    "        except :\n",
    "            speak(\"pardon me,please say that again\")\n",
    "            return \"None\"\n",
    "        return statement\n",
    "    "
   ]
  },
  {
   "cell_type": "code",
   "execution_count": 7,
   "id": "dc4a1e3f",
   "metadata": {
    "scrolled": true
   },
   "outputs": [
    {
     "ename": "NameError",
     "evalue": "name 'speak' is not defined",
     "output_type": "error",
     "traceback": [
      "\u001b[1;31m---------------------------------------------------------------------------\u001b[0m",
      "\u001b[1;31mNameError\u001b[0m                                 Traceback (most recent call last)",
      "Input \u001b[1;32mIn [7]\u001b[0m, in \u001b[0;36m<cell line: 1>\u001b[1;34m()\u001b[0m\n\u001b[1;32m----> 1\u001b[0m \u001b[43mspeak\u001b[49m(\u001b[38;5;124m\"\u001b[39m\u001b[38;5;124mLOADING YOUR AI PERSONAL ASSISTANT JARVIS\u001b[39m\u001b[38;5;124m\"\u001b[39m)\n\u001b[0;32m      2\u001b[0m wishMe()\n\u001b[0;32m      4\u001b[0m \u001b[38;5;28;01mif\u001b[39;00m \u001b[38;5;18m__name__\u001b[39m\u001b[38;5;241m==\u001b[39m\u001b[38;5;124m'\u001b[39m\u001b[38;5;124m__main__\u001b[39m\u001b[38;5;124m'\u001b[39m:\n",
      "\u001b[1;31mNameError\u001b[0m: name 'speak' is not defined"
     ]
    }
   ],
   "source": [
    "speak(\"LOADING YOUR AI PERSONAL ASSISTANT JARVIS\")\n",
    "wishMe()\n",
    "\n",
    "if __name__=='__main__':\n",
    "    while True:\n",
    "        speak(\"How can I Help You?\")\n",
    "        statement = takeCommand().lower()\n",
    "        if statement == 0:\n",
    "            continue\n",
    "        if \"goodbye\" in statement or \"ok bye\" in statement or \"stop\" in statement or \"thank you\" in statement:\n",
    "            speak(\"Your Personal AI Assistant JARVIS in shutting down, Good bye\")\n",
    "            print(\"Your Personal AI Assistant JARVIS in shutting down, Good bye\")\n",
    "            break\n",
    "            \n",
    "        if 'wikipedia' in statement:\n",
    "            speak(\"searching wikipedia......\")\n",
    "            statement = statement.replace(\"wikipedia\",\" \")\n",
    "            results = wikipedia.summary(statement , sentences = 3)\n",
    "            speak(\"According to wikipedia......\")\n",
    "            print(results)\n",
    "            speak(results)\n",
    "            \n",
    "        elif \"open youtube\" in statement:\n",
    "            webbrowser.open_new_tab(\"https://www.youtube.com\")\n",
    "            speak(\"youtube is open for you\")\n",
    "            time.sleep(5)\n",
    "            \n",
    "        elif \"open google\" in statement:\n",
    "            webbrowser.open_new_tab(\"https://www.google.com\")\n",
    "            speak(\"Google search is now open for you - Happy Learning\")\n",
    "            time.sleep(5)\n",
    "            \n",
    "        elif \"open gmail\" in statement:\n",
    "            webbrowser.open_new_tab(\"https://mail.google.com/mail/u/0/?tab=rm&ogbl#inbox\")\n",
    "            speak(\"Your inbox is Waiting for your Replies\")\n",
    "            time.sleep(5)\n",
    "            \n",
    "        elif \"weather\" in statement:\n",
    "            api_key = \"35b6c1fe244327de2735fc93ec1d4066\"\n",
    "            base_url =\"https://api.openweathermap.org/data/2.5/weather?\"\n",
    "            speak(\"Whats the city name\")\n",
    "            city_name = takeCommand()\n",
    "            complete_url = base_url+\"appid = \"+api_key+\"&q=\"+city_name\n",
    "            response = requests.get(complete_url)\n",
    "            x = response.json()\n",
    "            if x[\"cod\"] != \"404\":\n",
    "                y = x[\"main\"]\n",
    "                current_temperature = y[\"temp\"]\n",
    "                current_humidity = y[\"humidity\"]\n",
    "                z = x[\"weather\"]\n",
    "                weather_description = z[0][\"description\"]\n",
    "                speak(\" the temperature in kelvin units is \" + str(current_temperature) +\"\\n humidity in percentage is\" + str(current_humidity) + \"\\n weather description\" + str(weather_description))\n",
    "                print(\" the temperature in kelvin units is \" + str(current_temperature) +\"\\n humidity in percentage is\" + str(current_humidity) + \"\\n weather description\" + str(weather_description))\n",
    "            else:\n",
    "                speak(\"city not found\")\n",
    "                print(\"city not found\")\n",
    "                    \n",
    "        elif \"time\" in statement:\n",
    "                    strTime = datetime.datetime.now().strftime(\"%H:%M:%S\")\n",
    "                    speak(f\"the time is {strTime}\")\n",
    "                          \n",
    "        elif \"who are you\" in statement or \"what can you do\" in statement:\n",
    "                    speak('I am JARVIS version 1 point O your personal assistant.I am programmed to minor tasks like'\n",
    "                          'answering your questions, opening youtube,google chrome, gmail and stack overflow,predict time date and temperature,search wikipedia,predict weather'\n",
    "                          'from different location,get top headline news from The Hindu and you can ask me computational or geographical questions too!')\n",
    "                          \n",
    "        elif \"who made you\" in statement or \"who created you\" in statement or \"who discovered you\" in statement:\n",
    "                    speak(\"I WAS BUILT BY Mohit\")\n",
    "                    print(\"I WAS BUILT BY Mohit\")\n",
    "                          \n",
    "        elif \"open stackoverflow\" in statement:\n",
    "                    webbrowser.open_new_tab(\"https://stackoverflow.com/login\")\n",
    "                    time.sleep(5)\n",
    "        \n",
    "        elif \"open\" in statement:\n",
    "            website = statement.replace(\"open \",\"\")\n",
    "            webbrowser.open_new_tab(\"www.\"+website+\".com\")\n",
    "            speak(\"Opening \"+website)\n",
    "            time.sleep(5)\n",
    "                          \n",
    "        elif \"news\" in statement:\n",
    "                    news = webbrowser.open_new_tab(\"https://www.vijayavani.net\")\n",
    "                    speak(\"here are some headlines for you from Vijayavaani - Happy Reading\")\n",
    "                    time.sleep(7)\n",
    "                          \n",
    "        elif \"search\" in statement:\n",
    "                    statement = statement.replace(\"search\",\" \")\n",
    "                    webbrowser.open_new_tab(\"statement\")\n",
    "                    time.sleep(5)\n",
    "        \n",
    "        elif \"take notes\" in statement:\n",
    "            note_file = open(\"notes.txt\", 'w')\n",
    "            while statement != \"done\":\n",
    "                statement = takeCommand()\n",
    "                print(statement)\n",
    "                note_file.write(statement + \"\\n\")\n",
    "            note_file.close()\n",
    "                          \n",
    "                          \n",
    "        elif \"ask\" in statement:\n",
    "                    speak(\"I can answer to computational and geographical questions too just try me !! what do you want to ask \")\n",
    "                    question = takeCommand()\n",
    "                    app_id = \"R2K75H-7ELALHR35X\"\n",
    "                    client = wolframalpha.Client('R2K75H-7ELALHR35X')\n",
    "                    res = client.query(question)\n",
    "                    answer = next(res.results).text\n",
    "                    speak(answer)\n",
    "                    print(answer)\n",
    "                          \n",
    "        elif \"log off\" in statement or \"sign out\" in statement or \"shut down\" in statement:\n",
    "                    speak(\"OK, Jarvis is shutting down your Personal Computer in 6 seconds - make sure you have saved and exited from all the Applications\")\n",
    "                    subprocess.call(['shutdown',\"/1\"])\n",
    "                          \n",
    "                          \n",
    "    time.sleep(3)"
   ]
  },
  {
   "cell_type": "code",
   "execution_count": null,
   "id": "4d22b77a",
   "metadata": {},
   "outputs": [],
   "source": []
  },
  {
   "cell_type": "code",
   "execution_count": null,
   "id": "dc130a58",
   "metadata": {},
   "outputs": [],
   "source": []
  },
  {
   "cell_type": "code",
   "execution_count": null,
   "id": "bf84c83c",
   "metadata": {},
   "outputs": [],
   "source": []
  },
  {
   "cell_type": "code",
   "execution_count": null,
   "id": "34f4d263",
   "metadata": {},
   "outputs": [],
   "source": []
  },
  {
   "cell_type": "code",
   "execution_count": null,
   "id": "65289cfe",
   "metadata": {},
   "outputs": [],
   "source": []
  },
  {
   "cell_type": "code",
   "execution_count": 2,
   "id": "a894cd65",
   "metadata": {},
   "outputs": [
    {
     "name": "stdout",
     "output_type": "stream",
     "text": [
      "Hello world\n"
     ]
    }
   ],
   "source": [
    "print(\"Hello world\")"
   ]
  },
  {
   "cell_type": "code",
   "execution_count": null,
   "id": "370466c8",
   "metadata": {},
   "outputs": [],
   "source": []
  }
 ],
 "metadata": {
  "kernelspec": {
   "display_name": "Python 3 (ipykernel)",
   "language": "python",
   "name": "python3"
  },
  "language_info": {
   "codemirror_mode": {
    "name": "ipython",
    "version": 3
   },
   "file_extension": ".py",
   "mimetype": "text/x-python",
   "name": "python",
   "nbconvert_exporter": "python",
   "pygments_lexer": "ipython3",
   "version": "3.9.12"
  },
  "vscode": {
   "interpreter": {
    "hash": "369f2c481f4da34e4445cda3fffd2e751bd1c4d706f27375911949ba6bb62e1c"
   }
  }
 },
 "nbformat": 4,
 "nbformat_minor": 5
}
